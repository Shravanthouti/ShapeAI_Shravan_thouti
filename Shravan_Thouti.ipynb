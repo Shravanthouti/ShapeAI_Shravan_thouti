{
  "nbformat": 4,
  "nbformat_minor": 0,
  "metadata": {
    "colab": {
      "name": "Shravan Thouti.ipynb",
      "provenance": []
    },
    "kernelspec": {
      "name": "python3",
      "display_name": "Python 3"
    },
    "language_info": {
      "name": "python"
    }
  },
  "cells": [
    {
      "cell_type": "markdown",
      "metadata": {
        "id": "vz6cplrNR6D9"
      },
      "source": [
        "**Deep Neural Networks**"
      ]
    },
    {
      "cell_type": "code",
      "metadata": {
        "id": "3Ygq-9jzR-4W"
      },
      "source": [
        "# importing datasets from keras framework\n",
        "from keras.datasets import mnist\n",
        "\n",
        "data = mnist.load_data()"
      ],
      "execution_count": 43,
      "outputs": []
    },
    {
      "cell_type": "markdown",
      "metadata": {
        "id": "RyYhwxe2akDs"
      },
      "source": [
        "We want to know the type of data structure associated with the data variable."
      ]
    },
    {
      "cell_type": "code",
      "metadata": {
        "colab": {
          "base_uri": "https://localhost:8080/"
        },
        "id": "4WFOcbWmas-n",
        "outputId": "9b9b4bb8-cbb6-4b58-8e46-77b2f4296555"
      },
      "source": [
        "type(data)"
      ],
      "execution_count": 44,
      "outputs": [
        {
          "output_type": "execute_result",
          "data": {
            "text/plain": [
              "tuple"
            ]
          },
          "metadata": {
            "tags": []
          },
          "execution_count": 44
        }
      ]
    },
    {
      "cell_type": "markdown",
      "metadata": {
        "id": "qRB_7z-eTxEq"
      },
      "source": [
        "**We should define training and testing data**"
      ]
    },
    {
      "cell_type": "code",
      "metadata": {
        "id": "RO5XLHzDT6nN"
      },
      "source": [
        "((X_train, y_train), (X_test, y_test)) = data"
      ],
      "execution_count": 45,
      "outputs": []
    },
    {
      "cell_type": "markdown",
      "metadata": {
        "id": "sk5CcYoBfaBv"
      },
      "source": [
        "**We will be seeing the shape of the training data**"
      ]
    },
    {
      "cell_type": "code",
      "metadata": {
        "colab": {
          "base_uri": "https://localhost:8080/"
        },
        "id": "yDumZQnNffLV",
        "outputId": "0e8d1b8b-4e1a-436a-8430-98e58bf5bdaf"
      },
      "source": [
        "X_train[0].shape\n"
      ],
      "execution_count": 47,
      "outputs": [
        {
          "output_type": "execute_result",
          "data": {
            "text/plain": [
              "(28, 28)"
            ]
          },
          "metadata": {
            "tags": []
          },
          "execution_count": 47
        }
      ]
    },
    {
      "cell_type": "markdown",
      "metadata": {
        "id": "vmfKQzihgSyS"
      },
      "source": [
        "**Reshaping the training data for conveting 2d array into 1d array**"
      ]
    },
    {
      "cell_type": "code",
      "metadata": {
        "id": "HJVXWQ3ngXP7"
      },
      "source": [
        "X_train=X_train.reshape((X_train.shape[0], 28*28)).astype('float32')\n",
        "X_test=X_test.reshape((X_test.shape[0], 28*28)).astype('float32')"
      ],
      "execution_count": 48,
      "outputs": []
    },
    {
      "cell_type": "markdown",
      "metadata": {
        "id": "N9qF_jPHnmVD"
      },
      "source": [
        "**Normalizing values from 0-255 to 0-1**"
      ]
    },
    {
      "cell_type": "code",
      "metadata": {
        "id": "MPgh12fMns5y"
      },
      "source": [
        "X_train = X_train / 255\n",
        "X_test = X_test / 255"
      ],
      "execution_count": 49,
      "outputs": []
    },
    {
      "cell_type": "markdown",
      "metadata": {
        "id": "ceQqQg-MqwnS"
      },
      "source": [
        "**Changing y axis labels to categorical values**"
      ]
    },
    {
      "cell_type": "code",
      "metadata": {
        "colab": {
          "base_uri": "https://localhost:8080/"
        },
        "id": "LvMYsJDVq4ga",
        "outputId": "0f1ca20e-1098-47c5-963f-23777112e59f"
      },
      "source": [
        "from keras.utils import np_utils\n",
        "\n",
        "print(y_test.shape)\n",
        "\n",
        "y_train = np_utils.to_categorical(y_train)\n",
        "y_test = np_utils.to_categorical(y_test)\n",
        "\n",
        "num_classes = y_test.shape\n",
        "\n",
        "print(num_classes)"
      ],
      "execution_count": 50,
      "outputs": [
        {
          "output_type": "stream",
          "text": [
            "(10000,)\n",
            "(10000, 10)\n"
          ],
          "name": "stdout"
        }
      ]
    },
    {
      "cell_type": "markdown",
      "metadata": {
        "id": "qIo9mZJQtxzy"
      },
      "source": [
        "**Importing dense and other tools for buidling deep learning model**"
      ]
    },
    {
      "cell_type": "code",
      "metadata": {
        "id": "X9ckVyDbt71Q"
      },
      "source": [
        "from keras.models import Sequential\n",
        "from keras.layers import Dense"
      ],
      "execution_count": 51,
      "outputs": []
    },
    {
      "cell_type": "markdown",
      "metadata": {
        "id": "x_AlavLouTfn"
      },
      "source": [
        "Sequential model represents there are many more layers like hidden layers in between input and output layer.the layers are to be executed sequentially.\n",
        "\n",
        "Dense model is used for connecting neurons in one layer to another layer forming such a dense framework of layers."
      ]
    },
    {
      "cell_type": "code",
      "metadata": {
        "colab": {
          "base_uri": "https://localhost:8080/"
        },
        "id": "czbsHGN-ykac",
        "outputId": "cdc5b804-942d-4d87-e1f3-1d283d0bb24b"
      },
      "source": [
        "# Defining the model\n",
        "model = Sequential()\n",
        "\n",
        "# Adding first hidden layer\n",
        "model.add(Dense(32, input_dim = 28*28,activation='relu'))\n",
        "\n",
        "# Adding Second Hidden layer\n",
        "model.add(Dense(64, activation='relu'))\n",
        "\n",
        "# Adding output layer having 10 neurons due to 10 categ\n",
        "model.add(Dense(10, activation='softmax'))\n",
        "\n",
        "model"
      ],
      "execution_count": 52,
      "outputs": [
        {
          "output_type": "execute_result",
          "data": {
            "text/plain": [
              "<tensorflow.python.keras.engine.sequential.Sequential at 0x7f554d4a59d0>"
            ]
          },
          "metadata": {
            "tags": []
          },
          "execution_count": 52
        }
      ]
    },
    {
      "cell_type": "code",
      "metadata": {
        "id": "NWSBAl4Vy6j1"
      },
      "source": [
        "# Compiling the model\n",
        "model.compile(loss='categorical_crossentropy', optimizer='adam', metrics=['accuracy'])"
      ],
      "execution_count": 53,
      "outputs": []
    },
    {
      "cell_type": "code",
      "metadata": {
        "colab": {
          "base_uri": "https://localhost:8080/"
        },
        "id": "QcwtRtP50ivT",
        "outputId": "94257c80-d7fe-4903-ff68-ad4fc42fe037"
      },
      "source": [
        "# Printing Model Summary\n",
        "model.summary()"
      ],
      "execution_count": 54,
      "outputs": [
        {
          "output_type": "stream",
          "text": [
            "Model: \"sequential_12\"\n",
            "_________________________________________________________________\n",
            "Layer (type)                 Output Shape              Param #   \n",
            "=================================================================\n",
            "dense_36 (Dense)             (None, 32)                25120     \n",
            "_________________________________________________________________\n",
            "dense_37 (Dense)             (None, 64)                2112      \n",
            "_________________________________________________________________\n",
            "dense_38 (Dense)             (None, 10)                650       \n",
            "=================================================================\n",
            "Total params: 27,882\n",
            "Trainable params: 27,882\n",
            "Non-trainable params: 0\n",
            "_________________________________________________________________\n"
          ],
          "name": "stdout"
        }
      ]
    },
    {
      "cell_type": "code",
      "metadata": {
        "colab": {
          "base_uri": "https://localhost:8080/"
        },
        "id": "XR85sCai1A-v",
        "outputId": "dcbbfe14-b071-48da-9e29-96c272e8b43b"
      },
      "source": [
        "# Training the model using training data\n",
        "model.fit(X_train, y_train ,epochs=10, batch_size=100)"
      ],
      "execution_count": 56,
      "outputs": [
        {
          "output_type": "stream",
          "text": [
            "Epoch 1/10\n",
            "600/600 [==============================] - 1s 2ms/step - loss: 0.0769 - accuracy: 0.9761\n",
            "Epoch 2/10\n",
            "600/600 [==============================] - 1s 2ms/step - loss: 0.0680 - accuracy: 0.9797\n",
            "Epoch 3/10\n",
            "600/600 [==============================] - 1s 2ms/step - loss: 0.0611 - accuracy: 0.9819\n",
            "Epoch 4/10\n",
            "600/600 [==============================] - 1s 2ms/step - loss: 0.0570 - accuracy: 0.9822\n",
            "Epoch 5/10\n",
            "600/600 [==============================] - 1s 2ms/step - loss: 0.0521 - accuracy: 0.9839\n",
            "Epoch 6/10\n",
            "600/600 [==============================] - 1s 2ms/step - loss: 0.0484 - accuracy: 0.9852\n",
            "Epoch 7/10\n",
            "600/600 [==============================] - 1s 2ms/step - loss: 0.0446 - accuracy: 0.9859\n",
            "Epoch 8/10\n",
            "600/600 [==============================] - 1s 2ms/step - loss: 0.0426 - accuracy: 0.9865\n",
            "Epoch 9/10\n",
            "600/600 [==============================] - 1s 2ms/step - loss: 0.0383 - accuracy: 0.9877\n",
            "Epoch 10/10\n",
            "600/600 [==============================] - 1s 2ms/step - loss: 0.0356 - accuracy: 0.9885\n"
          ],
          "name": "stdout"
        },
        {
          "output_type": "execute_result",
          "data": {
            "text/plain": [
              "<tensorflow.python.keras.callbacks.History at 0x7f554ac656d0>"
            ]
          },
          "metadata": {
            "tags": []
          },
          "execution_count": 56
        }
      ]
    },
    {
      "cell_type": "markdown",
      "metadata": {
        "id": "2QHp9TPl2mwX"
      },
      "source": [
        "**Checking Model performance**"
      ]
    },
    {
      "cell_type": "code",
      "metadata": {
        "colab": {
          "base_uri": "https://localhost:8080/"
        },
        "id": "eEDcyuJe2r1X",
        "outputId": "58ac343e-dab1-4886-f24b-fe94ebe79291"
      },
      "source": [
        "scores = model.evaluate(X_test, y_test)\n",
        "print(scores) #returns loss and accuracy"
      ],
      "execution_count": 57,
      "outputs": [
        {
          "output_type": "stream",
          "text": [
            "313/313 [==============================] - 1s 1ms/step - loss: 0.1113 - accuracy: 0.9704\n",
            "[0.11132712662220001, 0.9703999757766724]\n"
          ],
          "name": "stdout"
        }
      ]
    }
  ]
}